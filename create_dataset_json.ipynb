{
  "nbformat": 4,
  "nbformat_minor": 0,
  "metadata": {
    "colab": {
      "provenance": [],
      "authorship_tag": "ABX9TyPyCFw36DMysyf8rqKvlehT",
      "include_colab_link": true
    },
    "kernelspec": {
      "name": "python3",
      "display_name": "Python 3"
    },
    "language_info": {
      "name": "python"
    }
  },
  "cells": [
    {
      "cell_type": "markdown",
      "metadata": {
        "id": "view-in-github",
        "colab_type": "text"
      },
      "source": [
        "<a href=\"https://colab.research.google.com/github/CapArrow/HighCountingVQA/blob/main/create_dataset_json.ipynb\" target=\"_parent\"><img src=\"https://colab.research.google.com/assets/colab-badge.svg\" alt=\"Open In Colab\"/></a>"
      ]
    },
    {
      "cell_type": "code",
      "execution_count": 2,
      "metadata": {
        "id": "CbCbS0imJVZY"
      },
      "outputs": [],
      "source": [
        "from google.colab import drive\n",
        "import requests\n",
        "import os\n",
        "import zipfile\n",
        "import json\n",
        "import numpy as np\n",
        "from tqdm import tqdm\n",
        "import pandas as pd\n",
        "from imutils import paths"
      ]
    },
    {
      "cell_type": "code",
      "source": [
        "# mount Google Drive\n",
        "drive.mount('/content/drive')"
      ],
      "metadata": {
        "colab": {
          "base_uri": "https://localhost:8080/"
        },
        "id": "_cB2kvu2Ji3l",
        "outputId": "b95e36a3-4a52-4efd-a1fc-110e252ecb46"
      },
      "execution_count": 53,
      "outputs": [
        {
          "output_type": "stream",
          "name": "stdout",
          "text": [
            "Drive already mounted at /content/drive; to attempt to forcibly remount, call drive.mount(\"/content/drive\", force_remount=True).\n"
          ]
        }
      ]
    },
    {
      "cell_type": "code",
      "source": [
        "# change directory to the Colab Notebooks folder with link to drive of lars\n",
        "%cd /content/drive/My Drive/MMDL2024/Colab Notebooks/"
      ],
      "metadata": {
        "colab": {
          "base_uri": "https://localhost:8080/"
        },
        "id": "h6DfvEalJrXW",
        "outputId": "ad571d4c-25bf-4ab9-b105-69bc8f38be48"
      },
      "execution_count": 54,
      "outputs": [
        {
          "output_type": "stream",
          "name": "stdout",
          "text": [
            "/content/drive/.shortcut-targets-by-id/1LQRkg9gduygZjO84k_knGQGpy1qEPTp6/Colab Notebooks\n"
          ]
        }
      ]
    },
    {
      "cell_type": "code",
      "source": [
        "# load json\n",
        "train_file = open(\"tallyqa_train.json\")\n",
        "test_file = open(\"tallyqa_test.json\")\n",
        "train_data = np.array(json.load(train_file))\n",
        "test_data = np.array(json.load(test_file))\n",
        "train_file.close()\n",
        "test_file.close()\n",
        "\n",
        "# test file has one additional key: \"issimple\"\n",
        "# in the following this key is ignored\n",
        "print(train_data[0].keys())\n",
        "print(test_data[0].keys())\n",
        "\n",
        "\n",
        "# concatenate data\n",
        "data_dict = np.concatenate((train_data, test_data), axis=0)\n",
        "# get dict keys\n",
        "data_keys = data_dict[0].keys()\n",
        "# transform dicts to list and get data array\n",
        "df = pd.json_normalize(data_dict)\n",
        "data = df.to_numpy()[:, :6]"
      ],
      "metadata": {
        "id": "53aJD8UWJs_m",
        "colab": {
          "base_uri": "https://localhost:8080/"
        },
        "outputId": "745cd1bb-9172-4368-c5c1-0656d082c7cb"
      },
      "execution_count": 48,
      "outputs": [
        {
          "output_type": "stream",
          "name": "stdout",
          "text": [
            "dict_keys(['image', 'answer', 'data_source', 'question', 'image_id', 'question_id'])\n",
            "dict_keys(['image', 'answer', 'data_source', 'question', 'image_id', 'question_id', 'issimple'])\n"
          ]
        }
      ]
    },
    {
      "cell_type": "code",
      "source": [
        "# test if all image files are available\n",
        "data_image_names = np.unique(data[:, 0])\n",
        "np.random.shuffle(data_image_names)\n",
        "print(len(data), len(data_image_names))\n",
        "\n",
        "filenotfound = []\n",
        "\n",
        "for name in tqdm(data_image_names):\n",
        "  folder, image_name = name.split(\"/\")\n",
        "  if folder == \"VG_100K\" or folder == \"VG_100K_2\":\n",
        "    name = \"visual_genome/\" + name\n",
        "  else:\n",
        "    name = \"coco/\" + name\n",
        "  if os.path.isfile(name):\n",
        "    filenotfound.append(name)"
      ],
      "metadata": {
        "colab": {
          "base_uri": "https://localhost:8080/"
        },
        "id": "OHqcXy6uKv5s",
        "outputId": "a288dbb2-6415-4ea8-a08e-0cc030d7ad86"
      },
      "execution_count": 49,
      "outputs": [
        {
          "output_type": "stream",
          "name": "stdout",
          "text": [
            "287907 159432\n"
          ]
        },
        {
          "output_type": "stream",
          "name": "stderr",
          "text": [
            "100%|██████████| 159432/159432 [00:29<00:00, 5446.86it/s]\n"
          ]
        }
      ]
    },
    {
      "cell_type": "code",
      "source": [
        "print(str(len(filenotfound)) + \" files not found!\")\n",
        "print(np.array(filenotfound)[:10])"
      ],
      "metadata": {
        "colab": {
          "base_uri": "https://localhost:8080/"
        },
        "id": "U6eAwyxZf2AD",
        "outputId": "9f1ef291-646a-44f6-ad56-a4c94424f375"
      },
      "execution_count": 50,
      "outputs": [
        {
          "output_type": "stream",
          "name": "stdout",
          "text": [
            "139117 files not found!\n",
            "['coco/train2014/COCO_train2014_000000401969.jpg'\n",
            " 'coco/val2014/COCO_val2014_000000562879.jpg'\n",
            " 'visual_genome/VG_100K/2316650.jpg' 'visual_genome/VG_100K/2358729.jpg'\n",
            " 'visual_genome/VG_100K_2/2390799.jpg'\n",
            " 'visual_genome/VG_100K_2/2413673.jpg'\n",
            " 'coco/train2014/COCO_train2014_000000495903.jpg'\n",
            " 'visual_genome/VG_100K/2343969.jpg'\n",
            " 'coco/train2014/COCO_train2014_000000160573.jpg'\n",
            " 'coco/train2014/COCO_train2014_000000274801.jpg']\n"
          ]
        }
      ]
    },
    {
      "cell_type": "code",
      "source": [
        "# extract every question with answer greater then 4\n",
        "gcd = data[:, 1] >= 4\n",
        "greater_count_data = data[gcd]\n",
        "lesser_count_data = data[np.logical_not(gcd)]\n",
        "np.random.shuffle(lesser_count_data)\n",
        "# create new data array with all answers greater then 4 and 20.000 answers lower then 4\n",
        "new_data = np.concatenate((greater_count_data, lesser_count_data[:20000]), axis=0)\n",
        "print(new_data.shape)"
      ],
      "metadata": {
        "colab": {
          "base_uri": "https://localhost:8080/"
        },
        "id": "fGiUXf2Fbqhl",
        "outputId": "ef2499be-0f1a-4f7e-ff6f-2479fe8e98c4"
      },
      "execution_count": 51,
      "outputs": [
        {
          "output_type": "stream",
          "name": "stdout",
          "text": [
            "(61528, 6)\n"
          ]
        }
      ]
    },
    {
      "cell_type": "code",
      "source": [
        "# create new json file for new_data\n",
        "file = open(\"HighCountVQA.json\", \"w\")\n",
        "json_data = []\n",
        "\n",
        "for line in tqdm(new_data):\n",
        "  tmp_dict = dict()\n",
        "  for i, key in enumerate(data_keys):\n",
        "    tmp_dict[key] = line[i]\n",
        "  json_data.append(tmp_dict)\n",
        "\n",
        "json.dump(json_data, file)"
      ],
      "metadata": {
        "colab": {
          "base_uri": "https://localhost:8080/"
        },
        "id": "rmtQ55QykNgI",
        "outputId": "be3985b7-a4e9-4898-877a-b53c002a157c"
      },
      "execution_count": 52,
      "outputs": [
        {
          "output_type": "stream",
          "name": "stderr",
          "text": [
            "100%|██████████| 61528/61528 [00:00<00:00, 238508.93it/s]\n"
          ]
        }
      ]
    }
  ]
}