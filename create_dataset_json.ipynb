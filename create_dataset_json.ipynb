{
  "nbformat": 4,
  "nbformat_minor": 0,
  "metadata": {
    "colab": {
      "provenance": [],
      "mount_file_id": "1UbrGTB0IWvh_Gd2a3rYHMTpGYuOoEA6P",
      "authorship_tag": "ABX9TyPJNQ2iWSnTp/wrtAixy/Ay",
      "include_colab_link": true
    },
    "kernelspec": {
      "name": "python3",
      "display_name": "Python 3"
    },
    "language_info": {
      "name": "python"
    }
  },
  "cells": [
    {
      "cell_type": "markdown",
      "metadata": {
        "id": "view-in-github",
        "colab_type": "text"
      },
      "source": [
        "<a href=\"https://colab.research.google.com/github/CapArrow/HighCountingVQA/blob/main/create_dataset_json.ipynb\" target=\"_parent\"><img src=\"https://colab.research.google.com/assets/colab-badge.svg\" alt=\"Open In Colab\"/></a>"
      ]
    },
    {
      "cell_type": "code",
      "execution_count": 1,
      "metadata": {
        "id": "CbCbS0imJVZY"
      },
      "outputs": [],
      "source": [
        "from google.colab import drive\n",
        "import requests\n",
        "import os\n",
        "import zipfile\n",
        "import json\n",
        "import numpy as np\n",
        "from tqdm import tqdm\n",
        "import pandas as pd\n",
        "from imutils import paths\n",
        "from tabulate import tabulate\n",
        "import zipfile"
      ]
    },
    {
      "cell_type": "code",
      "source": [
        "# mount Google Drive\n",
        "drive.mount('/content/drive')"
      ],
      "metadata": {
        "colab": {
          "base_uri": "https://localhost:8080/"
        },
        "id": "_cB2kvu2Ji3l",
        "outputId": "047fd56c-53ab-4728-eff6-5fc5c9dfc9a8"
      },
      "execution_count": 2,
      "outputs": [
        {
          "output_type": "stream",
          "name": "stdout",
          "text": [
            "Drive already mounted at /content/drive; to attempt to forcibly remount, call drive.mount(\"/content/drive\", force_remount=True).\n"
          ]
        }
      ]
    },
    {
      "cell_type": "code",
      "source": [
        "# change directory to the Colab Notebooks folder with link to drive of lars\n",
        "%cd /content/drive/My Drive/MMDL2024/Colab Notebooks/"
      ],
      "metadata": {
        "colab": {
          "base_uri": "https://localhost:8080/"
        },
        "id": "h6DfvEalJrXW",
        "outputId": "ae3d46cb-8293-46c6-dc52-fb696fe7c0d7"
      },
      "execution_count": 3,
      "outputs": [
        {
          "output_type": "stream",
          "name": "stdout",
          "text": [
            "/content/drive/.shortcut-targets-by-id/1LQRkg9gduygZjO84k_knGQGpy1qEPTp6/Colab Notebooks\n"
          ]
        }
      ]
    },
    {
      "cell_type": "code",
      "source": [
        "# load json\n",
        "train_file = open(\"tallyqa_train.json\")\n",
        "test_file = open(\"tallyqa_test.json\")\n",
        "train_data = np.array(json.load(train_file))\n",
        "test_data = np.array(json.load(test_file))\n",
        "train_file.close()\n",
        "test_file.close()\n",
        "\n",
        "# test file has one additional key: \"issimple\"\n",
        "# in the following this key is ignored\n",
        "print(train_data[0].keys())\n",
        "print(test_data[0].keys())\n",
        "\n",
        "\n",
        "# concatenate data\n",
        "data_dict = np.concatenate((train_data, test_data), axis=0)\n",
        "# get dict keys\n",
        "data_keys = data_dict[0].keys()\n",
        "# transform dicts to list and get data array\n",
        "df = pd.json_normalize(data_dict)\n",
        "data = df.to_numpy()[:, :6]"
      ],
      "metadata": {
        "id": "53aJD8UWJs_m",
        "colab": {
          "base_uri": "https://localhost:8080/"
        },
        "outputId": "02222231-9d56-4fb3-9c81-87c3b31f6d06"
      },
      "execution_count": 4,
      "outputs": [
        {
          "output_type": "stream",
          "name": "stdout",
          "text": [
            "dict_keys(['image', 'answer', 'data_source', 'question', 'image_id', 'question_id'])\n",
            "dict_keys(['image', 'answer', 'data_source', 'question', 'image_id', 'question_id', 'issimple'])\n"
          ]
        }
      ]
    },
    {
      "cell_type": "code",
      "source": [
        "def file_split_by_name(data):\n",
        "  coco_train = []\n",
        "  coco_val = []\n",
        "  vg_100 = []\n",
        "  vg_100_2 = []\n",
        "  unknown = []\n",
        "  for fname in data:\n",
        "    foldern, imagen = fname.split(\"/\")\n",
        "    if foldern == \"train2014\":\n",
        "      coco_train.append(fname)\n",
        "    elif foldern == \"val2014\":\n",
        "      coco_val.append(fname)\n",
        "    elif foldern == \"VG_100K\":\n",
        "      vg_100.append(fname)\n",
        "    elif foldern == \"VG_100K_2\":\n",
        "      vg_100_2.append(fname)\n",
        "    else:\n",
        "      unknown.append(fname)\n",
        "\n",
        "  table = [[\"coco_train\", len(coco_train)], [\"coco_val\", len(coco_val)], [\"vg_100\", len(vg_100)], [\"vg_100_2\", len(vg_100_2)], [\"unknown\", len(unknown)]]\n",
        "  print(tabulate(table))\n",
        "  return coco_train, coco_val, vg_100, vg_100_2\n",
        "\n",
        "# extract all relevant image_names from data\n",
        "data_image_names = np.unique(data[:, 0])\n",
        "np.random.shuffle(data_image_names)\n",
        "print(tabulate([[\"questions\", len(data)], [\"images\", len(data_image_names)]]))\n",
        "# get all images names wrt. the datasets which are used in tallyqa\n",
        "coco_train_files, coco_val_files, vg_100k_files, vg_100k_2_files = file_split_by_name(data_image_names)"
      ],
      "metadata": {
        "colab": {
          "base_uri": "https://localhost:8080/"
        },
        "id": "OHqcXy6uKv5s",
        "outputId": "309f5dd8-1b68-4ff3-ed61-83a9a96ab9e2"
      },
      "execution_count": 5,
      "outputs": [
        {
          "output_type": "stream",
          "name": "stdout",
          "text": [
            "---------  ------\n",
            "questions  287907\n",
            "images     159432\n",
            "---------  ------\n",
            "----------  -----\n",
            "coco_train  66943\n",
            "coco_val    32633\n",
            "vg_100      35270\n",
            "vg_100_2    24586\n",
            "unknown         0\n",
            "----------  -----\n"
          ]
        }
      ]
    },
    {
      "cell_type": "code",
      "source": [
        "def download(url, zip_dir):\n",
        "  if not os.path.exists(zip_dir):\n",
        "      !wget -O $zip_dir $url\n",
        "\n",
        "# coco\n",
        "# download(\"http://images.cocodataset.org/zips/train2014.zip\", \"coco/train2014.zip\")\n",
        "download(\"http://images.cocodataset.org/zips/val2014.zip\", \"val2014.zip\")\n",
        "# download(\"http://images.cocodataset.org/zips/test2015.zip\", \"test2015.zip\")\n",
        "\n",
        "# visual genome\n",
        "# download(\"https://cs.stanford.edu/people/rak248/VG_100K_2/images.zip\", \"visual_genome/VG_100K.zip\")\n",
        "# download(\"https://cs.stanford.edu/people/rak248/VG_100K_2/images2.zip\", \"visual_genome/VG_100K_2.zip\")"
      ],
      "metadata": {
        "id": "YJAGyxHNPKuN"
      },
      "execution_count": null,
      "outputs": []
    },
    {
      "cell_type": "code",
      "source": [
        "%cd ..\n",
        "!unzip val2014.zip -d coco/"
      ],
      "metadata": {
        "id": "2w6hm_potssc"
      },
      "execution_count": null,
      "outputs": []
    },
    {
      "cell_type": "code",
      "source": [
        "zip_files = [\"val2014.zip\"] # \"train2014.zip\", \"VG_100K.zip\", \"VG_100K_2.zip\"]\n",
        "\n",
        "for file_name in zip_files:\n",
        "  zf = zipfile.ZipFile(file_name)\n",
        "  print(len(zf.namelist()))\n",
        "\n",
        "  base_folder = \"\"\n",
        "  folder_name = file_name.split(\".zip\")[0]\n",
        "  tq_file_names = []\n",
        "\n",
        "  if folder_name == \"train2014\":\n",
        "    tq_file_names = coco_train_files\n",
        "    base_folder = \"coco/\"\n",
        "  elif folder_name == \"val2014\":\n",
        "    tq_file_names = coco_val_files\n",
        "    base_folder = \"coco/\"\n",
        "  elif folder_name == \"VG_100K\":\n",
        "    tq_file_names = vg_100k_files\n",
        "    base_folder = \"visual_genome/\"\n",
        "  else:\n",
        "    tq_file_names = vg_100k_2_files\n",
        "    base_folder = \"visual_genome/\"\n",
        "\n",
        "  # extract all files seperately\n",
        "  for fname in tqdm(tq_file_names):\n",
        "    zf.extract(fname, base_folder)"
      ],
      "metadata": {
        "id": "Q3XKBQ1zFeq8"
      },
      "execution_count": null,
      "outputs": []
    },
    {
      "cell_type": "code",
      "source": [
        "print(len(list(paths.list_files(\"coco/train2014/\"))))\n",
        "print(len(list(paths.list_files(\"coco/val2014/\"))))\n",
        "print(len(list(paths.list_files(\"visual_genome/VG_100K/\"))))\n",
        "print(len(list(paths.list_files(\"visual_genome/VG_100K_2\"))))"
      ],
      "metadata": {
        "colab": {
          "base_uri": "https://localhost:8080/"
        },
        "id": "Bi0f1zMnNlA5",
        "outputId": "26dcaf64-cd59-4340-8b8b-5292d5cf943e"
      },
      "execution_count": 6,
      "outputs": [
        {
          "output_type": "stream",
          "name": "stdout",
          "text": [
            "0\n",
            "3086\n",
            "0\n",
            "0\n"
          ]
        }
      ]
    },
    {
      "cell_type": "code",
      "source": [
        "%cd coco/\n",
        "coco_train_files = np.array(list(paths.list_files(\"train2014\")))\n",
        "coco_val_files = np.array(list(paths.list_files(\"val2014\")))\n",
        "%cd ../visual_genome/\n",
        "vg_100_files = np.array(list(paths.list_files(\"VG_100K\")))\n",
        "vg_100_2_files = np.array(list(paths.list_files(\"VG_100K_2\")))\n",
        "%cd .."
      ],
      "metadata": {
        "id": "eNAhpmMK1mEH"
      },
      "execution_count": null,
      "outputs": []
    },
    {
      "cell_type": "code",
      "source": [
        "#mask_coco_train = np.isin(coco_train_files[:1000], data_image_names)\n",
        "#mask_coco_val = np.isin(data_image_names, coco_val_files)\n",
        "#mask_vg_100 = np.isin(data_image_names, vg_100_files)\n",
        "#mask_vg_100_2 = np.isin(data_image_names, vg_100_2_files)"
      ],
      "metadata": {
        "id": "CiS2Br2u7dOo"
      },
      "execution_count": null,
      "outputs": []
    },
    {
      "cell_type": "code",
      "source": [
        "filenotfound = []\n",
        "\n",
        "for name in tqdm(data_image_names):\n",
        "  folder, image_name = name.split(\"/\")\n",
        "  if folder == \"VG_100K\" or folder == \"VG_100K_2\":\n",
        "    name = \"visual_genome/\" + name\n",
        "  else:\n",
        "    name = \"coco/\" + name\n",
        "  if os.path.isfile(name):\n",
        "    filenotfound.append(name)"
      ],
      "metadata": {
        "id": "p_hruN_LmE3Z"
      },
      "execution_count": null,
      "outputs": []
    },
    {
      "cell_type": "code",
      "source": [
        "file_split_by_name(filenotfound)\n",
        "print(str(len(filenotfound)) + \" files not found!\")\n",
        "print(np.array(filenotfound)[:10])"
      ],
      "metadata": {
        "colab": {
          "base_uri": "https://localhost:8080/"
        },
        "id": "U6eAwyxZf2AD",
        "outputId": "9f1ef291-646a-44f6-ad56-a4c94424f375"
      },
      "execution_count": null,
      "outputs": [
        {
          "output_type": "stream",
          "name": "stdout",
          "text": [
            "139117 files not found!\n",
            "['coco/train2014/COCO_train2014_000000401969.jpg'\n",
            " 'coco/val2014/COCO_val2014_000000562879.jpg'\n",
            " 'visual_genome/VG_100K/2316650.jpg' 'visual_genome/VG_100K/2358729.jpg'\n",
            " 'visual_genome/VG_100K_2/2390799.jpg'\n",
            " 'visual_genome/VG_100K_2/2413673.jpg'\n",
            " 'coco/train2014/COCO_train2014_000000495903.jpg'\n",
            " 'visual_genome/VG_100K/2343969.jpg'\n",
            " 'coco/train2014/COCO_train2014_000000160573.jpg'\n",
            " 'coco/train2014/COCO_train2014_000000274801.jpg']\n"
          ]
        }
      ]
    },
    {
      "cell_type": "code",
      "source": [
        "# extract every question with answer greater then 4\n",
        "gcd = data[:, 1] >= 4\n",
        "greater_count_data = data[gcd]\n",
        "lesser_count_data = data[np.logical_not(gcd)]\n",
        "np.random.shuffle(lesser_count_data)\n",
        "# create new data array with all answers greater then 4 and 20.000 answers lower then 4\n",
        "new_data = np.concatenate((greater_count_data, lesser_count_data[:20000]), axis=0)\n",
        "# train, val, test split (60, 20, 20)\n",
        "np.random.shuffle(new_data)\n",
        "max_len = len(new_data)\n",
        "b1 = int(max_len * 0.6)\n",
        "b2 = int(max_len * 0.8)\n",
        "new_train_data = new_data[:b1]\n",
        "new_val_data = new_data[b1:b2]\n",
        "new_test_data = new_data[b2:]"
      ],
      "metadata": {
        "id": "fGiUXf2Fbqhl"
      },
      "execution_count": 9,
      "outputs": []
    },
    {
      "cell_type": "code",
      "source": [
        "def create_json(jdata, file_name):\n",
        "  # create new json file for new_data\n",
        "  file = open(file_name, \"w\")\n",
        "  json_data = []\n",
        "\n",
        "  for line in tqdm(jdata):\n",
        "    tmp_dict = dict()\n",
        "    if len(line[3]) != 0:\n",
        "      for i, key in enumerate(data_keys):\n",
        "          tmp_dict[key] = line[i]\n",
        "    else:\n",
        "      continue\n",
        "    json_data.append(tmp_dict)\n",
        "\n",
        "  json.dump(json_data, file)"
      ],
      "metadata": {
        "id": "rmtQ55QykNgI"
      },
      "execution_count": 18,
      "outputs": []
    },
    {
      "cell_type": "code",
      "source": [
        "create_json(new_train_data, \"HighCountVQA_train.json\")\n",
        "create_json(new_val_data, \"HighCountVQA_val.json\")\n",
        "create_json(new_test_data, \"HighCountVQA_test.json\")"
      ],
      "metadata": {
        "colab": {
          "base_uri": "https://localhost:8080/"
        },
        "id": "NTBDmU31hIkQ",
        "outputId": "b44e7f0a-6712-4b22-c5f3-1ddc0e20eb3f"
      },
      "execution_count": 19,
      "outputs": [
        {
          "output_type": "stream",
          "name": "stderr",
          "text": [
            "100%|██████████| 36916/36916 [00:00<00:00, 260026.04it/s]\n",
            "100%|██████████| 12306/12306 [00:00<00:00, 271271.53it/s]\n",
            "100%|██████████| 12306/12306 [00:00<00:00, 311273.77it/s]\n"
          ]
        }
      ]
    }
  ]
}